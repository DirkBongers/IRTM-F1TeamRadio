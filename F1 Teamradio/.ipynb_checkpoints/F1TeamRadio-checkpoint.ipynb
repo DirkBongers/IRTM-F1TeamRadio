{
 "cells": [
  {
   "cell_type": "code",
   "execution_count": 1,
   "metadata": {},
   "outputs": [
    {
     "name": "stdout",
     "output_type": "stream",
     "text": [
      "['It’s quite windy out there.', 'To Hamilton: Still headwind turn two, it may have rotated compared to yesterday so more of a tailwind turn eight. Still predominantly the same direction, though.', 'Grosjean: Thanks for waiting, I’ve finished my drink.', 'No problem, that was a big drink.', 'Is the temperature still dropping?', 'Yeah it should be dropping. The sun’s just disappearing behind the grandstand. It should be down.', 'Fernando tyre info: prime [soft] runners are Wehrlein, Ericsson and Hartley, everyone else on option [ultra-soft].', 'The fumes have been pretty strong.', 'Yeah that’s Ricciardo behind you quite smoky.', 'Something flew out of my car, hit me in the head on top of the car, don’t know what it was.']\n",
      "2977\n"
     ]
    }
   ],
   "source": [
    "sample = u\"I can't imagine spending $3000 for a single bedroom apartment in N.Y.C.\"\n",
    "#LOAD THE ACTUAL DATA\n",
    "import os\n",
    "import pandas as pd\n",
    "import matplotlib.pyplot as plt\n",
    "from nltk.tokenize import word_tokenize\n",
    "from sklearn.feature_extraction.text import TfidfVectorizer\n",
    "from sklearn.cluster import KMeans, AgglomerativeClustering\n",
    "#from wordcloud import WordCloud\n",
    "PATH = 'C:\\\\Users\\\\LucBl\\\\OneDrive\\\\Bureaublad\\\\Uni Master\\\\IRTM\\\\Assignment\\\\IRTM-F1TeamRadio\\\\F1 Teamradio\\\\'\n",
    "#PATH = 'C:\\\\Users\\\\dbn\\\\Desktop\\\\IRTM-F1TeamRadio\\\\F1 Teamradio\\\\'\n",
    "filelist = os.listdir(PATH + 'Transcripts')\n",
    "data = pd.read_excel(PATH+'Transcripts\\\\'+ filelist[0])\n",
    "racename = filelist[0].replace('2017-','')\n",
    "racename = racename.replace('-Race.xlsx','')\n",
    "Track = [racename]*len(data.Driver)\n",
    "data['Track'] = Track\n",
    "for i in range(1,19):\n",
    "    df = pd.read_excel(PATH+'Transcripts\\\\'+ filelist[i])\n",
    "    racename = filelist[i].replace('2017-','')\n",
    "    racename = racename.replace('-Race.xlsx','')\n",
    "    Track = [racename]*len(df.Driver)\n",
    "    df['Track'] = Track\n",
    "    #print(df.columns.values)\n",
    "    #print(filelist[i])\n",
    "    data = pd.concat([data,df])\n",
    "data = data.dropna(axis=0,how='any')\n",
    "data.index = range(0,len(data.Driver))\n",
    "\n",
    "filelistR = os.listdir(PATH + 'Results')\n",
    "dataR = pd.read_excel(PATH+'Results\\\\'+ filelistR[0])\n",
    "racenameR = filelistR[0].replace('2017-','')\n",
    "racenameR = racenameR.replace('-Results.xlsx','')\n",
    "TrackR = [racenameR]*len(dataR.DRIVER)\n",
    "dataR['Track'] = TrackR\n",
    "for i in range(1,19):\n",
    "    df = pd.read_excel(PATH+'Results\\\\'+ filelistR[i])\n",
    "    racenameR = filelistR[i].replace('2017-','')\n",
    "    racenameR = racenameR.replace('-Results.xlsx','')\n",
    "    TrackR = [racenameR]*len(df.DRIVER)\n",
    "    df['Track'] = TrackR\n",
    "    #print(df.columns.values)\n",
    "    #print(filelist[i])\n",
    "    dataR = pd.concat([dataR,df])\n",
    "\n",
    "To = [None]*len(data.Driver)\n",
    "From = [None]*len(data.Driver)\n",
    "data['To'] = pd.Series(To,index = data.index)\n",
    "data['From'] = pd.Series(From,index = data.index)\n",
    "for i in range(0,len(data.Driver)):\n",
    "    if 'To' in data.Driver[i]:\n",
    "        data.To[i] = data.Driver[i].replace('To\\xa0','')\n",
    "        data.To[i] = data.To[i].replace('To ','')\n",
    "        data.To[i] = data.To[i].replace('To','')\n",
    "    elif 'From' in data.Driver[i]:\n",
    "        data.From[i] = data.Driver[i].replace('From\\xa0','')\n",
    "        data.From[i] = data.From[i].replace('From ','')\n",
    "        data.From[i] = data.From[i].replace('From','')\n",
    "    else:\n",
    "        data.To[i] = data.Driver[i]\n",
    "        data.From[i] = data.Driver[i]\n",
    "messages = list(data.Message)\n",
    "print(messages[0:10])\n",
    "print(len(messages))\n"
   ]
  },
  {
   "cell_type": "code",
   "execution_count": 2,
   "metadata": {},
   "outputs": [
    {
     "name": "stderr",
     "output_type": "stream",
     "text": [
      "C:\\ProgramData\\Anaconda3\\lib\\site-packages\\pandas\\core\\generic.py:3643: SettingWithCopyWarning: \n",
      "A value is trying to be set on a copy of a slice from a DataFrame.\n",
      "Try using .loc[row_indexer,col_indexer] = value instead\n",
      "\n",
      "See the caveats in the documentation: http://pandas.pydata.org/pandas-docs/stable/indexing.html#indexing-view-versus-copy\n",
      "  self[name] = value\n"
     ]
    }
   ],
   "source": [
    "import string\n",
    "from collections import Counter\n",
    "\n",
    "allText = \" \".join([str(data.Message[j]).lower().translate(str.maketrans('','',string.punctuation)) for j in range(0,len(data.Message))])\n",
    "allwords = Counter()\n",
    "allwords.update(allText.split())\n",
    "\n",
    "DriverFromDictionary = pd.DataFrame(columns = data.From.unique())\n",
    "DriverFromDictionary['All'] = pd.Series(dict(allwords.most_common()))\n",
    "for i in range(0,len(data.From.unique())):\n",
    "    DriverName = data.From.unique()[i]\n",
    "    if DriverName != None and DriverName != '':\n",
    "        dataFromDriver = data[data.From == DriverName]\n",
    "        dataFromDriver.index = range(0,len(dataFromDriver.Driver))\n",
    "        dataFromDriver.Message = [str(dataFromDriver.Message[j]).lower().translate(str.maketrans('','',string.punctuation)) for j in range(0,len(dataFromDriver.Message))]\n",
    "        \n",
    "        TotalText = \" \".join(dataFromDriver.Message)\n",
    "        words = Counter()\n",
    "        words.update(TotalText.split())\n",
    "        DriverFromDictionary[DriverName] = pd.Series(dict(words.most_common()))\n",
    "    else:\n",
    "        continue\n",
    "DriverFromDictionary = DriverFromDictionary.fillna(0)\n",
    "DriverToDictionary = pd.DataFrame(columns = data.To.unique())\n",
    "DriverToDictionary['All'] = pd.Series(dict(allwords.most_common()))\n",
    "for i in range(0,len(data.To.unique())):\n",
    "    DriverName = data.To.unique()[i]\n",
    "    if DriverName != None and DriverName != '':\n",
    "        dataToDriver = data[data.To == DriverName]\n",
    "        dataToDriver.index = range(0,len(dataToDriver.Driver))\n",
    "        dataToDriver.Message = [str(dataToDriver.Message[j]).lower().translate(str.maketrans('','',string.punctuation)) for j in range(0,len(dataToDriver.Message))]\n",
    "        \n",
    "        TotalText = \" \".join(dataToDriver.Message)\n",
    "        words = Counter()\n",
    "        words.update(TotalText.split())\n",
    "        DriverToDictionary[DriverName] = pd.Series(dict(words.most_common()))\n",
    "    else:\n",
    "        continue\n",
    "DriverToDictionary = DriverToDictionary.fillna(0)        "
   ]
  },
  {
   "cell_type": "code",
   "execution_count": 3,
   "metadata": {},
   "outputs": [
    {
     "ename": "TypeError",
     "evalue": "object of type 'int' has no len()",
     "output_type": "error",
     "traceback": [
      "\u001b[1;31m---------------------------------------------------------------------------\u001b[0m",
      "\u001b[1;31mTypeError\u001b[0m                                 Traceback (most recent call last)",
      "\u001b[1;32m<ipython-input-3-d51432879404>\u001b[0m in \u001b[0;36m<module>\u001b[1;34m()\u001b[0m\n\u001b[0;32m      7\u001b[0m \u001b[0mdocs\u001b[0m \u001b[1;33m=\u001b[0m  \u001b[1;33m[\u001b[0m\u001b[1;33m]\u001b[0m\u001b[1;33m\u001b[0m\u001b[0m\n\u001b[0;32m      8\u001b[0m \u001b[1;32mfor\u001b[0m \u001b[0mi\u001b[0m \u001b[1;32min\u001b[0m \u001b[0mrange\u001b[0m\u001b[1;33m(\u001b[0m\u001b[1;36m0\u001b[0m\u001b[1;33m,\u001b[0m\u001b[0mlen\u001b[0m\u001b[1;33m(\u001b[0m\u001b[0mmessages\u001b[0m\u001b[1;33m)\u001b[0m\u001b[1;33m)\u001b[0m\u001b[1;33m:\u001b[0m\u001b[1;33m\u001b[0m\u001b[0m\n\u001b[1;32m----> 9\u001b[1;33m     \u001b[0mdocs\u001b[0m\u001b[1;33m.\u001b[0m\u001b[0mappend\u001b[0m\u001b[1;33m(\u001b[0m\u001b[0mnlp\u001b[0m\u001b[1;33m(\u001b[0m\u001b[0mmessages\u001b[0m\u001b[1;33m[\u001b[0m\u001b[0mi\u001b[0m\u001b[1;33m]\u001b[0m\u001b[1;33m)\u001b[0m\u001b[1;33m)\u001b[0m\u001b[1;33m\u001b[0m\u001b[0m\n\u001b[0m",
      "\u001b[1;32mC:\\ProgramData\\Anaconda3\\lib\\site-packages\\spacy\\language.py\u001b[0m in \u001b[0;36m__call__\u001b[1;34m(self, text, disable)\u001b[0m\n\u001b[0;32m    341\u001b[0m             \u001b[1;33m(\u001b[0m\u001b[1;34m'An'\u001b[0m\u001b[1;33m,\u001b[0m \u001b[1;34m'NN'\u001b[0m\u001b[1;33m)\u001b[0m\u001b[1;33m\u001b[0m\u001b[0m\n\u001b[0;32m    342\u001b[0m         \"\"\"\n\u001b[1;32m--> 343\u001b[1;33m         \u001b[1;32mif\u001b[0m \u001b[0mlen\u001b[0m\u001b[1;33m(\u001b[0m\u001b[0mtext\u001b[0m\u001b[1;33m)\u001b[0m \u001b[1;33m>=\u001b[0m \u001b[0mself\u001b[0m\u001b[1;33m.\u001b[0m\u001b[0mmax_length\u001b[0m\u001b[1;33m:\u001b[0m\u001b[1;33m\u001b[0m\u001b[0m\n\u001b[0m\u001b[0;32m    344\u001b[0m             raise ValueError(Errors.E088.format(length=len(text),\n\u001b[0;32m    345\u001b[0m                                                 max_length=self.max_length))\n",
      "\u001b[1;31mTypeError\u001b[0m: object of type 'int' has no len()"
     ]
    }
   ],
   "source": [
    "import spacy\n",
    "from spacy import displacy\n",
    "from spacy.lang.en.stop_words import STOP_WORDS\n",
    "\n",
    "nlp = spacy.load('en')\n",
    "doc = nlp(sample)\n",
    "docs =  []\n",
    "for i in range(0,len(messages)):\n",
    "    docs.append(nlp(messages[i]))"
   ]
  },
  {
   "cell_type": "code",
   "execution_count": null,
   "metadata": {},
   "outputs": [],
   "source": [
    "# Print out tokens\n",
    "print(docs[0:10])"
   ]
  },
  {
   "cell_type": "code",
   "execution_count": null,
   "metadata": {},
   "outputs": [],
   "source": [
    "# Store tokens as list, print out\n",
    "toks = [None]*len(docs)\n",
    "for i in range(0,len(docs)):\n",
    "    tokens = [token for token in docs[i]]\n",
    "    toks[i] = tokens\n",
    "    #print(tokens)\n"
   ]
  },
  {
   "cell_type": "code",
   "execution_count": null,
   "metadata": {},
   "outputs": [],
   "source": [
    "for word in doc:\n",
    "    if word.is_stop == True:\n",
    "        print(word)\n"
   ]
  },
  {
   "cell_type": "code",
   "execution_count": null,
   "metadata": {},
   "outputs": [],
   "source": [
    "#for i in range(0,len(docs)):\n",
    "#    for token in docs[i]:\n",
    "#        print(token.text, token.lemma_, token.pos_, token.tag_, token.dep_,\n",
    "#              token.shape_, token.is_alpha, token.is_stop)"
   ]
  },
  {
   "cell_type": "code",
   "execution_count": null,
   "metadata": {},
   "outputs": [],
   "source": [
    "for i in range(571,572): \n",
    "    displacy.render(docs[i], style='dep', jupyter=True, options={'distance': 70})"
   ]
  },
  {
   "cell_type": "code",
   "execution_count": null,
   "metadata": {
    "scrolled": true
   },
   "outputs": [],
   "source": [
    "# Print out named entities\n",
    "for i in range(0,len(docs)):\n",
    "    for ent in docs[i].ents:\n",
    "        print(ent.text, ent.start_char, ent.end_char, ent.label_)\n"
   ]
  },
  {
   "cell_type": "code",
   "execution_count": null,
   "metadata": {},
   "outputs": [],
   "source": [
    "for i in range(0:10)\n",
    "    displacy.render(docs[i], style='ent', jupyter=True)"
   ]
  },
  {
   "cell_type": "code",
   "execution_count": null,
   "metadata": {},
   "outputs": [],
   "source": [
    "docs[0].similarity(docs[1])"
   ]
  },
  {
   "cell_type": "code",
   "execution_count": null,
   "metadata": {
    "scrolled": true
   },
   "outputs": [],
   "source": []
  },
  {
   "cell_type": "code",
   "execution_count": null,
   "metadata": {},
   "outputs": [],
   "source": [
    "import difflib\n",
    "SimilarityMatrix = pd.DataFrame(index=DriverFromDictionary.columns,columns = DriverFromDictionary.columns)\n",
    "#SimilarityMatrix = SimilarityMatrix.fillna(0)\n",
    "for driver1 in DriverFromDictionary.columns:\n",
    "    for driver2 in DriverFromDictionary.columns:\n",
    "        sm =difflib.SequenceMatcher(None,list(DriverFromDictionary[driver1]),list(DriverFromDictionary[driver2]))\n",
    "        SimilarityMatrix[driver1][driver2] = float(sm.ratio())\n",
    "        if driver1 == driver2:\n",
    "            SimilarityMatrix[driver1][driver2] = 0\n",
    "        \n",
    "SimilarityMatrix = SimilarityMatrix.astype('float64')\n",
    "    \n",
    "print(SimilarityMatrix)"
   ]
  },
  {
   "cell_type": "code",
   "execution_count": null,
   "metadata": {},
   "outputs": [],
   "source": [
    "import seaborn as sns\n",
    "fig, ax = plt.subplots(figsize=(15,15))   \n",
    "ax = sns.heatmap(SimilarityMatrix, cmap=\"YlGnBu\")\n",
    "fig = ax.get_figure()\n",
    "fig.savefig(\"heatmap.png\")"
   ]
  },
  {
   "cell_type": "markdown",
   "metadata": {
    "collapsed": true
   },
   "source": [
    "###### "
   ]
  },
  {
   "cell_type": "code",
   "execution_count": 11,
   "metadata": {},
   "outputs": [
    {
     "name": "stdout",
     "output_type": "stream",
     "text": [
      "2977\n",
      "2977\n",
      "2977\n",
      "0       0.0000\n",
      "1       0.0000\n",
      "2       0.4404\n",
      "3      -0.5994\n",
      "4       0.0000\n",
      "5       0.2960\n",
      "6       0.0000\n",
      "7       0.7506\n",
      "8       0.2960\n",
      "9       0.2023\n",
      "10     -0.2732\n",
      "11      0.0000\n",
      "12      0.4466\n",
      "13      0.0000\n",
      "14      0.6249\n",
      "15      0.0000\n",
      "16      0.0000\n",
      "17      0.0000\n",
      "18      0.0000\n",
      "19      0.0000\n",
      "20      0.3612\n",
      "21      0.0000\n",
      "22     -0.2732\n",
      "23      0.0000\n",
      "24      0.2023\n",
      "25     -0.3716\n",
      "26      0.0000\n",
      "27      0.1226\n",
      "28      0.0000\n",
      "29      0.0000\n",
      "         ...  \n",
      "2947    0.8878\n",
      "2948    0.2732\n",
      "2949    0.8957\n",
      "2950    0.8020\n",
      "2951    0.5106\n",
      "2952    0.2732\n",
      "2953    0.4404\n",
      "2954    0.7090\n",
      "2955    0.6901\n",
      "2956    0.8020\n",
      "2957    0.9006\n",
      "2958   -0.3818\n",
      "2959    0.9182\n",
      "2960    0.9631\n",
      "2961    0.8671\n",
      "2962    0.4588\n",
      "2963    0.4019\n",
      "2964    0.0000\n",
      "2965    0.0000\n",
      "2966    0.7019\n",
      "2967    0.0772\n",
      "2968    0.2960\n",
      "2969    0.2960\n",
      "2970    0.2212\n",
      "2971    0.4466\n",
      "2972   -0.4939\n",
      "2973    0.4404\n",
      "2974    0.8349\n",
      "2975    0.0000\n",
      "2976    0.0736\n",
      "Name: compound, Length: 2977, dtype: float64\n"
     ]
    },
    {
     "data": {
      "text/plain": [
       "[<matplotlib.lines.Line2D at 0x241abc274e0>]"
      ]
     },
     "execution_count": 11,
     "metadata": {},
     "output_type": "execute_result"
    },
    {
     "data": {
      "image/png": "[encoded data removed]",
      "text/plain": [
       "<matplotlib.figure.Figure at 0x241abca70f0>"
      ]
     },
     "metadata": {},
     "output_type": "display_data"
    }
   ],
   "source": [
    "from nltk.sentiment.vader import SentimentIntensityAnalyzer\n",
    "sid = SentimentIntensityAnalyzer()\n",
    "sentences = data.Message\n",
    "pos = []\n",
    "neg = []\n",
    "comp = []\n",
    "for sentence in sentences:\n",
    "    #print(sentence)\n",
    "    ss = sid.polarity_scores(str(sentence))\n",
    "    pos.append(ss['pos'])\n",
    "    neg.append(ss['neg'])\n",
    "    comp.append(ss['compound'])\n",
    "    #print()\n",
    "#print(comp)\n",
    "print(len(comp))\n",
    "print(len(neg))\n",
    "print(len(sentences))\n",
    "data['compound'] = comp\n",
    "\n",
    "print(data['compound'])"
   ]
  },
  {
   "cell_type": "code",
   "execution_count": 6,
   "metadata": {},
   "outputs": [
    {
     "ename": "TypeError",
     "evalue": "'method' object is not subscriptable",
     "output_type": "error",
     "traceback": [
      "\u001b[1;31m---------------------------------------------------------------------------\u001b[0m",
      "\u001b[1;31mTypeError\u001b[0m                                 Traceback (most recent call last)",
      "\u001b[1;32m<ipython-input-6-b3d7ab16eab9>\u001b[0m in \u001b[0;36m<module>\u001b[1;34m()\u001b[0m\n\u001b[0;32m      3\u001b[0m     \u001b[0mlapName\u001b[0m \u001b[1;33m=\u001b[0m \u001b[0mAbu\u001b[0m\u001b[1;33m[\u001b[0m\u001b[1;34m'Lap*'\u001b[0m\u001b[1;33m]\u001b[0m\u001b[1;33m.\u001b[0m\u001b[0munique\u001b[0m\u001b[1;33m(\u001b[0m\u001b[1;33m)\u001b[0m\u001b[1;33m[\u001b[0m\u001b[0mi\u001b[0m\u001b[1;33m]\u001b[0m\u001b[1;33m\u001b[0m\u001b[0m\n\u001b[0;32m      4\u001b[0m     \u001b[1;32mfor\u001b[0m \u001b[0mj\u001b[0m \u001b[1;32min\u001b[0m \u001b[0mrange\u001b[0m\u001b[1;33m(\u001b[0m\u001b[1;36m0\u001b[0m\u001b[1;33m,\u001b[0m\u001b[0mlen\u001b[0m\u001b[1;33m(\u001b[0m\u001b[0mAbu\u001b[0m\u001b[1;33m[\u001b[0m\u001b[1;34m'Lap*'\u001b[0m\u001b[1;33m]\u001b[0m\u001b[1;33m.\u001b[0m\u001b[0munique\u001b[0m\u001b[1;33m(\u001b[0m\u001b[1;33m)\u001b[0m\u001b[1;33m)\u001b[0m\u001b[1;33m)\u001b[0m\u001b[1;33m:\u001b[0m\u001b[1;33m\u001b[0m\u001b[0m\n\u001b[1;32m----> 5\u001b[1;33m         \u001b[0mcomps\u001b[0m \u001b[1;33m=\u001b[0m \u001b[0mAbu\u001b[0m\u001b[1;33m.\u001b[0m\u001b[0mcompound\u001b[0m\u001b[1;33m[\u001b[0m\u001b[0mAbu\u001b[0m\u001b[1;33m[\u001b[0m\u001b[1;34m'Lap*'\u001b[0m\u001b[1;33m]\u001b[0m \u001b[1;33m==\u001b[0m \u001b[0mAbu\u001b[0m\u001b[1;33m[\u001b[0m\u001b[1;34m'Lap*'\u001b[0m\u001b[1;33m]\u001b[0m\u001b[1;33m.\u001b[0m\u001b[0munique\u001b[0m\u001b[1;33m(\u001b[0m\u001b[1;33m)\u001b[0m\u001b[1;33m[\u001b[0m\u001b[0mj\u001b[0m\u001b[1;33m]\u001b[0m\u001b[1;33m]\u001b[0m\u001b[1;33m\u001b[0m\u001b[0m\n\u001b[0m\u001b[0;32m      6\u001b[0m         \u001b[0mmeanComp\u001b[0m\u001b[1;33m[\u001b[0m\u001b[0mj\u001b[0m\u001b[1;33m]\u001b[0m \u001b[1;33m=\u001b[0m \u001b[0mmean\u001b[0m\u001b[1;33m(\u001b[0m\u001b[0mcomps\u001b[0m\u001b[1;33m)\u001b[0m\u001b[1;33m\u001b[0m\u001b[0m\n",
      "\u001b[1;31mTypeError\u001b[0m: 'method' object is not subscriptable"
     ]
    }
   ],
   "source": [
    "Abu = data[data.Track == 'AbuDhabi']\n",
    "for i in range(0,len(Abu['Lap*'].unique())):\n",
    "    lapName = Abu['Lap*'].unique()[i]\n",
    "    for j in range(0,len(Abu['Lap*'].unique())):\n",
    "        comps = Abu.compound[Abu['Lap*'] == Abu['Lap*'].unique()[j]]\n",
    "        meanComp[j] = mean(comps)"
   ]
  },
  {
   "cell_type": "code",
   "execution_count": 27,
   "metadata": {},
   "outputs": [
    {
     "name": "stdout",
     "output_type": "stream",
     "text": [
      "[0.019571428571428566, 0.5233, 0.2023, 0.11404285714285714, 0.0903, -0.09106666666666667, -0.034681818181818175, -0.2377, 0.0, 0.0, 0.07655, 0.0937875, 0.0, 0.0892, 0.0, -0.07192, 0.130625, -0.017187499999999998, -0.14452500000000001, 0.13435, 0.0850857142857143, 0.0073999999999999995, -0.148, 0.289, 0.422025, 0.0184, 0.4466, 0.0, 0.25061666666666665, 0.01692, 0.17433333333333334, -0.061575000000000005, -0.09196666666666665, 0.09149999999999997, 0.0, 0.30314, 0.7003, 0.0787, 0.2808, 0.18580000000000002, 0.0, 0.06698333333333333, 0.3096666666666667, 0.46029230769230767]\n"
     ]
    },
    {
     "data": {
      "text/plain": [
       "[<matplotlib.lines.Line2D at 0x241bb97d320>]"
      ]
     },
     "execution_count": 27,
     "metadata": {},
     "output_type": "execute_result"
    },
    {
     "data": {
      "image/png": "[encoded data removed]",
      "text/plain": [
       "<matplotlib.figure.Figure at 0x241bb904080>"
      ]
     },
     "metadata": {},
     "output_type": "display_data"
    }
   ],
   "source": [
    "import numpy as np\n",
    "Abu = data[data.Track == 'AbuDhabi']\n",
    "uniqueLaps = Abu['Lap*'].unique()\n",
    "AbuLapData = [None]*len(uniqueLaps)\n",
    "AvgCompScore = [None]*len(uniqueLaps)\n",
    "for i in range(0,len(uniqueLaps)):\n",
    "    AbuLapData[i] = Abu[Abu['Lap*']==uniqueLaps[i]]\n",
    "    AvgCompScore[i] = np.mean(AbuLapData[i]['compound'])\n",
    "print(AvgCompScore)   \n",
    "plt.plot(AvgCompScore)\n",
    "zeroLine = [0]*len(AvgCompScore)\n",
    "plt.plot(zeroLine)"
   ]
  },
  {
   "cell_type": "code",
   "execution_count": 42,
   "metadata": {},
   "outputs": [
    {
     "name": "stdout",
     "output_type": "stream",
     "text": [
      "[nan, nan, nan, nan, nan, nan, 0.1226, nan, nan, nan, nan, nan, nan, nan, nan, -0.296, nan, nan, nan, nan, 0.0, nan, nan, nan, nan, nan, nan, nan, nan, nan, nan, nan, nan, nan, nan, 0.1779, nan, nan, nan, nan, nan, nan, nan, 0.13605]\n"
     ]
    },
    {
     "ename": "AttributeError",
     "evalue": "'list' object has no attribute 'fillna'",
     "output_type": "error",
     "traceback": [
      "\u001b[1;31m---------------------------------------------------------------------------\u001b[0m",
      "\u001b[1;31mAttributeError\u001b[0m                            Traceback (most recent call last)",
      "\u001b[1;32m<ipython-input-42-6eaf94a93ec5>\u001b[0m in \u001b[0;36m<module>\u001b[1;34m()\u001b[0m\n\u001b[0;32m     10\u001b[0m     \u001b[0mAvgCompScore\u001b[0m\u001b[1;33m[\u001b[0m\u001b[0mi\u001b[0m\u001b[1;33m]\u001b[0m \u001b[1;33m=\u001b[0m \u001b[0mnp\u001b[0m\u001b[1;33m.\u001b[0m\u001b[0mmean\u001b[0m\u001b[1;33m(\u001b[0m\u001b[0mAbuLapData\u001b[0m\u001b[1;33m[\u001b[0m\u001b[0mi\u001b[0m\u001b[1;33m]\u001b[0m\u001b[1;33m[\u001b[0m\u001b[1;34m'compound'\u001b[0m\u001b[1;33m]\u001b[0m\u001b[1;33m)\u001b[0m\u001b[1;33m\u001b[0m\u001b[0m\n\u001b[0;32m     11\u001b[0m \u001b[0mprint\u001b[0m\u001b[1;33m(\u001b[0m\u001b[0mAvgCompScore\u001b[0m\u001b[1;33m)\u001b[0m\u001b[1;33m\u001b[0m\u001b[0m\n\u001b[1;32m---> 12\u001b[1;33m \u001b[0mAvgCompScore\u001b[0m\u001b[1;33m.\u001b[0m\u001b[0mfillna\u001b[0m\u001b[1;33m(\u001b[0m\u001b[1;36m0\u001b[0m\u001b[1;33m)\u001b[0m\u001b[1;33m\u001b[0m\u001b[0m\n\u001b[0m\u001b[0;32m     13\u001b[0m \u001b[0mplt\u001b[0m\u001b[1;33m.\u001b[0m\u001b[0mplot\u001b[0m\u001b[1;33m(\u001b[0m\u001b[0mAvgCompScore\u001b[0m\u001b[1;33m)\u001b[0m\u001b[1;33m\u001b[0m\u001b[0m\n\u001b[0;32m     14\u001b[0m \u001b[0mzeroLine\u001b[0m \u001b[1;33m=\u001b[0m \u001b[1;33m[\u001b[0m\u001b[1;36m0\u001b[0m\u001b[1;33m]\u001b[0m\u001b[1;33m*\u001b[0m\u001b[0mlen\u001b[0m\u001b[1;33m(\u001b[0m\u001b[0mAvgCompScore\u001b[0m\u001b[1;33m)\u001b[0m\u001b[1;33m\u001b[0m\u001b[0m\n",
      "\u001b[1;31mAttributeError\u001b[0m: 'list' object has no attribute 'fillna'"
     ]
    }
   ],
   "source": [
    "import numpy as np\n",
    "import math\n",
    "Abu = data[data.Track == 'AbuDhabi']\n",
    "uniqueLaps = Abu['Lap*'].unique()\n",
    "Abu = Abu[Abu.From == 'Max Verstappen']\n",
    "Abu.append(Abu[Abu.To == 'Max Verstappen'])\n",
    "AbuLapData = [None]*len(uniqueLaps)\n",
    "AvgCompScore = [None]*len(uniqueLaps)\n",
    "for i in range(0,len(uniqueLaps)):\n",
    "    AbuLapData[i] = Abu[Abu['Lap*']==uniqueLaps[i]]\n",
    "    AvgCompScore[i] = np.mean(AbuLapData[i]['compound'])\n",
    "print(AvgCompScore)\n",
    "AvgCompScore = [0 if math.isnan(x) else x for x in AvgCompScore]\n",
    "plt.plot(AvgCompScore)\n",
    "zeroLine = [0]*len(AvgCompScore)\n",
    "plt.plot(zeroLine)"
   ]
  },
  {
   "cell_type": "code",
   "execution_count": null,
   "metadata": {},
   "outputs": [],
   "source": []
  },
  {
   "cell_type": "code",
   "execution_count": null,
   "metadata": {},
   "outputs": [],
   "source": []
  },
  {
   "cell_type": "code",
   "execution_count": null,
   "metadata": {},
   "outputs": [],
   "source": []
  },
  {
   "cell_type": "code",
   "execution_count": null,
   "metadata": {},
   "outputs": [],
   "source": []
  },
  {
   "cell_type": "code",
   "execution_count": null,
   "metadata": {},
   "outputs": [],
   "source": []
  },
  {
   "cell_type": "code",
   "execution_count": null,
   "metadata": {},
   "outputs": [],
   "source": []
  },
  {
   "cell_type": "code",
   "execution_count": null,
   "metadata": {},
   "outputs": [],
   "source": []
  },
  {
   "cell_type": "code",
   "execution_count": null,
   "metadata": {},
   "outputs": [],
   "source": []
  },
  {
   "cell_type": "code",
   "execution_count": null,
   "metadata": {},
   "outputs": [],
   "source": []
  },
  {
   "cell_type": "code",
   "execution_count": null,
   "metadata": {},
   "outputs": [],
   "source": []
  },
  {
   "cell_type": "code",
   "execution_count": null,
   "metadata": {},
   "outputs": [],
   "source": []
  },
  {
   "cell_type": "code",
   "execution_count": null,
   "metadata": {},
   "outputs": [],
   "source": []
  }
 ],
 "metadata": {
  "kernelspec": {
   "display_name": "Python 3",
   "language": "python",
   "name": "python3"
  },
  "language_info": {
   "codemirror_mode": {
    "name": "ipython",
    "version": 3
   },
   "file_extension": ".py",
   "mimetype": "text/x-python",
   "name": "python",
   "nbconvert_exporter": "python",
   "pygments_lexer": "ipython3",
   "version": "3.6.4"
  }
 },
 "nbformat": 4,
 "nbformat_minor": 2
}
